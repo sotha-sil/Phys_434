{
 "cells": [
  {
   "cell_type": "code",
   "execution_count": 1,
   "metadata": {},
   "outputs": [],
   "source": [
    "import scipy.stats as jp\n",
    "import numpy as np\n",
    "import matplotlib.pyplot as plt\n",
    "import pickle"
   ]
  },
  {
   "cell_type": "code",
   "execution_count": 2,
   "metadata": {},
   "outputs": [],
   "source": [
    "infile = open (\"qcd_100000_pt_1000_1200.pkl\",'rb')\n",
    "ram = pickle.load(infile)\n",
    "ranch = pickle.load(open(\"higgs_100000_pt_1000_1200.pkl\",'rb'))"
   ]
  },
  {
   "cell_type": "markdown",
   "metadata": {},
   "source": [
    "We seek to find the expected significance of the background plus signal. We first need to find the mean of the distribution. We are assuming the background and signal to be Poisson distributed in counts of events, with given means of $\\mu_{background} = \\mu_b = 2000$ and $\\mu_{Higgs} = \\mu_H = 50$. The overall counts distribution, as a sum of Poisson distributions (see last lab) will be Poisson with mean $\\mu = \\mu_b + \\mu_H = 2050$. The expected significance is expected in the frequentist sense: if we were to take measurements from this combined distribution many times, the average significance of the measurement is what we seek. The average measurement we will take will be the mean of this distribution, and then events of larger numbers of counts are more signal like, as a low number of counts is always possible, but higher numbers of counts are indicative of some extra process (in our case, a Higgs mechanism increasing the counts). The expected significance is then the significance of the expected value, and we find this by integrating from the mean of this full distribution upwards to infinity on the pmf - but the pmf is the pmf of the assumed background, not the full distribution, as this is a null hypothesis test. Integrate, and note by normalization of the pmf this integral is equivalent to 1 minus the integral from 0 to the mean $\\mu$ of the full distribution."
   ]
  },
  {
   "cell_type": "code",
   "execution_count": 15,
   "metadata": {},
   "outputs": [
    {
     "name": "stdout",
     "output_type": "stream",
     "text": [
      "We calculate a significance of 1.1060461130380514 sigma.\n"
     ]
    }
   ],
   "source": [
    "p = 0\n",
    "for i in range(2050):\n",
    "    p += jp.poisson.pmf(i, mu=2000)\n",
    "sig = jp.norm.ppf(p)\n",
    "print('We calculate a significance of {} sigma.'.format(str(sig)))"
   ]
  },
  {
   "cell_type": "markdown",
   "metadata": {},
   "source": [
    "Pathetic! We make our stacked histogram of the two data, weighting appropriately. We note that we expect for this high pT sample a yield of 50 for Higgs events, and a yield of 2000 for QCD events, so overall we have 2050 events, and we want to weight our Higgs data to be 50/2050, with the QCD background weighted at 2000/2050."
   ]
  },
  {
   "cell_type": "code",
   "execution_count": 7,
   "metadata": {},
   "outputs": [
    {
     "data": {
      "image/png": "[encoded data removed]",
      "text/plain": [
       "<Figure size 432x288 with 1 Axes>"
      ]
     },
     "metadata": {
      "needs_background": "light"
     },
     "output_type": "display_data"
    }
   ],
   "source": [
    "wt = np.ones(ram.get('mass').size)\n",
    "\n",
    "plt.hist([ram.get('mass'), ranch.get('mass')], bins = 1000, weights=[(2000 / 2050) * wt, (50 / 2050) * wt], histtype='barstacked', color=['b', 'r'], label=['Background', 'Higgs events'])\n",
    "# plt.hist(ram.get('mass'), bins = 1000, weights=50 / 2050, histtype='barstacked', color='b')\n",
    "plt.xlabel('Measurement (in GeV/c^2)')\n",
    "plt.ylabel('Counts')\n",
    "plt.title('Mass event counts')\n",
    "plt.legend()\n",
    "plt.show()"
   ]
  },
  {
   "cell_type": "code",
   "execution_count": 9,
   "metadata": {},
   "outputs": [
    {
     "name": "stdout",
     "output_type": "stream",
     "text": [
      "1.118033988749895\n"
     ]
    }
   ],
   "source": [
    "print(50 / np.sqrt(2000))"
   ]
  },
  {
   "cell_type": "code",
   "execution_count": null,
   "metadata": {},
   "outputs": [],
   "source": [
    "mH = 125"
   ]
  }
 ],
 "metadata": {
  "kernelspec": {
   "display_name": "Python 3",
   "language": "python",
   "name": "python3"
  },
  "language_info": {
   "codemirror_mode": {
    "name": "ipython",
    "version": 3
   },
   "file_extension": ".py",
   "mimetype": "text/x-python",
   "name": "python",
   "nbconvert_exporter": "python",
   "pygments_lexer": "ipython3",
   "version": "3.7.3"
  }
 },
 "nbformat": 4,
 "nbformat_minor": 2
}
